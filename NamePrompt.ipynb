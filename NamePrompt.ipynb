{
 "cells": [
  {
   "cell_type": "code",
   "execution_count": 1,
   "metadata": {},
   "outputs": [
    {
     "name": "stdin",
     "output_type": "stream",
     "text": [
      "What is your name? Charlie \n",
      "What is your age? 19\n"
     ]
    },
    {
     "name": "stdout",
     "output_type": "stream",
     "text": [
      "Hi, Charlie ! You are 19 years old!\n"
     ]
    }
   ],
   "source": [
    "whatname=\"What is your name?\"\n",
    "nameprompt=input(whatname)\n",
    "helloname= \"Hi, \" + nameprompt + \"!\"\n",
    "age=\"What is your age?\"\n",
    "ageprompt=input(age)\n",
    "helloage=\" You are \" + ageprompt + \" years old!\" \n",
    "print(helloname + helloage)"
   ]
  },
  {
   "cell_type": "code",
   "execution_count": null,
   "metadata": {},
   "outputs": [],
   "source": []
  }
 ],
 "metadata": {
  "kernelspec": {
   "display_name": "Python 3",
   "language": "python",
   "name": "python3"
  },
  "language_info": {
   "codemirror_mode": {
    "name": "ipython",
    "version": 3
   },
   "file_extension": ".py",
   "mimetype": "text/x-python",
   "name": "python",
   "nbconvert_exporter": "python",
   "pygments_lexer": "ipython3",
   "version": "3.8.3"
  }
 },
 "nbformat": 4,
 "nbformat_minor": 4
}
